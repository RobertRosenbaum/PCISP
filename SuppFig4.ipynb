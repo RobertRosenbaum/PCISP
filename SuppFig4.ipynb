{
 "cells": [
  {
   "cell_type": "code",
   "execution_count": 6,
   "metadata": {
    "colab": {
     "base_uri": "https://localhost:8080/"
    },
    "id": "T4Z4thHousPp",
    "outputId": "ffbd2b80-207d-4c22-85a4-4337753630c9"
   },
   "outputs": [],
   "source": [
    "# This code generates Figures 10\n",
    "#!/usr/bin/env python3\n",
    "# -*- coding: utf-8 -*-\n",
    "\"\"\"\n",
    "Created on Sun Feb  2 15:14:03 2020\n",
    "\n",
    "@author: vicky\n",
    "\"\"\"\n",
    "# add this: `%matplotlib inline` in the console  for printing the plot\n",
    "\n",
    "\n",
    "import numpy as np\n",
    "import matplotlib.pyplot as plt\n",
    "from numpy.linalg import inv\n",
    "import math\n",
    "from time import time as tm\n",
    "import warnings\n",
    "\n",
    "import numba\n",
    "from numba import jit\n",
    "\n",
    "np.random.seed(0)\n",
    "\n",
    "#from google.colab import drive\n",
    "#drive.mount('/content/drive')\n"
   ]
  },
  {
   "cell_type": "code",
   "execution_count": 7,
   "metadata": {},
   "outputs": [],
   "source": [
    "from SpikingNetFunction import *\n",
    "from RateNetFunctions import *\n",
    "from DefaultParamsN5e3 import *\n",
    "\n",
    "runsims=True"
   ]
  },
  {
   "cell_type": "markdown",
   "metadata": {
    "id": "a3UeFPAF1o3s"
   },
   "source": [
    "# Input params\n",
    "\n"
   ]
  },
  {
   "cell_type": "code",
   "execution_count": 8,
   "metadata": {
    "id": "6T2ejiUd1lz1"
   },
   "outputs": [],
   "source": [
    "\n",
    "# Perturbations to each population\n",
    "\n",
    "Ne1=int(Ne/3)\n",
    "Ni1=int(Ni/3)\n",
    "sigma=Xe0/20\n",
    "\n",
    "\n",
    "ue=sigma*np.zeros(Ne)\n",
    "ve=sigma*np.zeros(Ne)\n",
    "ui=sigma*np.zeros(Ni)\n",
    "vi=sigma*np.zeros(Ni)\n",
    "\n",
    "ue[:Ne1]=sigma\n",
    "ve[Ne1:2*Ne1]=-sigma\n",
    "\n",
    "vi[:Ni1]=sigma\n",
    "vi[Ni1:2*Ni1]=-sigma\n",
    "\n",
    "\n",
    "MMTrial=numtrials-10\n",
    "\n",
    "# Whether the U and V stimuli are on/off\n",
    "uon=np.zeros(numtrials)\n",
    "von=np.zeros(numtrials)\n",
    "\n",
    "# Matches\n",
    "uon[:]=2*np.random.rand(numtrials)#np.random.randn(numtrials)\n",
    "von[:]=uon[:]\n",
    "\n",
    "# Mismatches\n",
    "uon[MMTrial]=1\n",
    "von[MMTrial]=0\n",
    "\n",
    "# uon[-10]=0\n",
    "# von[-10]=1\n",
    "\n",
    "\n",
    "# Input perturbations\n",
    "Xe=Xe0+np.outer(ue,uon)+np.outer(ve,von)\n",
    "Xi=Xi0+np.outer(ui,uon)+np.outer(vi,von)\n"
   ]
  },
  {
   "cell_type": "markdown",
   "metadata": {
    "id": "xF2KLkMClZJn"
   },
   "source": [
    "# Spiking sim"
   ]
  },
  {
   "cell_type": "code",
   "execution_count": 9,
   "metadata": {
    "colab": {
     "base_uri": "https://localhost:8080/",
     "height": 428
    },
    "id": "S2SVzmq3xbrI",
    "outputId": "72532d51-b9a8-4d36-9901-dd6ef59ea8b3"
   },
   "outputs": [
    {
     "name": "stdout",
     "output_type": "stream",
     "text": [
      "0 110 5 4.2 8.3; \n",
      "1 110 9 4.2 8.3; 2 110 14 4.1 8.2; 3 110 19 4.1 8.2; 4 110 24 4.2 8.2; \n",
      "5 110 29 4.1 8.2; 6 110 33 4.1 8.2; 7 110 38 4.1 8.2; 8 110 43 4.1 8.2; \n",
      "9 110 48 4.2 8.2; 10 110 53 4.1 8.2; 11 110 59 4.1 8.2; 12 110 65 4.1 8.2; \n",
      "13 110 70 4.1 8.2; 14 110 75 4.1 8.2; 15 110 80 4.1 8.2; 16 110 84 4.1 8.2; \n",
      "17 110 89 4.1 8.2; 18 110 94 4.1 8.2; 19 110 99 4.1 8.2; 20 110 104 4.1 8.1; \n",
      "21 110 109 4.1 8.2; 22 110 113 4.1 8.1; 23 110 118 4.1 8.2; 24 110 122 4.1 8.2; \n",
      "25 110 127 4.1 8.1; 26 110 132 4.1 8.1; 27 110 137 4.1 8.2; 28 110 141 4.1 8.2; \n",
      "29 110 146 4.1 8.1; 30 110 150 4.1 8.2; 31 110 155 4.1 8.2; 32 110 160 4.1 8.1; \n",
      "33 110 164 4.1 8.1; 34 110 169 4.1 8.2; 35 110 174 4.1 8.2; 36 110 178 4.1 8.1; \n",
      "37 110 183 4.1 8.1; 38 110 187 4.1 8.1; 39 110 192 4.1 8.1; 40 110 196 4.1 8.2; \n",
      "41 110 200 4.1 8.2; 42 110 205 4.1 8.2; 43 110 209 4.1 8.2; 44 110 214 4.1 8.1; \n",
      "45 110 218 4.1 8.2; 46 110 223 4.1 8.2; 47 110 227 4.1 8.2; 48 110 232 4.1 8.1; \n",
      "49 110 237 4.1 8.1; 50 110 241 4.1 8.1; 51 110 246 4.1 8.1; 52 110 250 4.1 8.1; \n",
      "53 110 255 4.1 8.2; 54 110 259 4.1 8.1; 55 110 264 4.1 8.1; 56 110 268 4.1 8.1; \n",
      "57 110 272 4.1 8.1; 58 110 277 4.1 8.1; 59 110 282 4.1 8.1; 60 110 286 4.1 8.1; \n",
      "61 110 291 4.1 8.2; 62 110 295 4.1 8.2; 63 110 300 4.1 8.1; 64 110 304 4.1 8.1; \n",
      "65 110 309 4.1 8.1; 66 110 313 4.1 8.1; 67 110 318 4.1 8.2; 68 110 323 4.1 8.1; \n",
      "69 110 327 4.1 8.1; 70 110 332 4.1 8.2; 71 110 337 4.1 8.1; 72 110 341 4.1 8.1; \n",
      "73 110 346 4.1 8.1; 74 110 350 4.1 8.2; 75 110 355 4.1 8.2; 76 110 360 4.1 8.1; \n",
      "77 110 365 4.1 8.2; 78 110 371 4.1 8.1; 79 110 376 4.1 8.1; 80 110 381 4.1 8.2; \n",
      "81 110 385 4.1 8.1; 82 110 390 4.1 8.2; 83 110 395 4.0 8.1; 84 110 399 4.1 8.1; \n",
      "85 110 404 4.1 8.1; 86 110 408 4.1 8.2; 87 110 413 4.1 8.1; 88 110 417 4.1 8.1; \n",
      "89 110 422 4.1 8.2; 90 110 427 4.1 8.2; 91 110 432 4.1 8.1; 92 110 436 4.1 8.2; \n",
      "93 110 441 4.1 8.2; 94 110 446 4.1 8.1; 95 110 450 4.1 8.1; 96 110 455 4.1 8.2; \n",
      "97 110 460 4.1 8.2; 98 110 465 4.1 8.1; 99 110 470 4.1 8.1; 100 110 475 4.2 8.3; \n",
      "101 110 479 4.1 8.1; 102 110 484 4.1 8.1; 103 110 488 4.1 8.1; 104 110 493 4.1 8.2; \n",
      "105 110 498 4.1 8.1; 106 110 503 4.1 8.2; 107 110 507 4.1 8.2; 108 110 512 4.1 8.2; \n",
      "109 110 517 4.1 8.1; Time for simulations: 8.61 min\n",
      "Time per sec: 0.10 sec\n"
     ]
    }
   ],
   "source": [
    "fname1='./MatchMisMatchSpikeSim_dataE1E2E3I1I2I3t_N'+str(int(N/1000))+'e3.npy'\n",
    "\n",
    "if runsims:\n",
    "  Jei=Jei0.copy()\n",
    "  Jii=Jii0.copy()\n",
    "  startsims = tm()\n",
    "  with warnings.catch_warnings():\n",
    "    warnings.simplefilter(\"ignore\")\n",
    "    MeanIee,MeanIei,MeanIie,MeanIii,AlleRates,AlliRates,IeeRec,IeiRec,IexRec,VeRec,SeRec,SiRec=MultiTrialSpikingNet0(Jee,Jei0,Jie,Jii0,Xe,Xi,taum,EL,Vth,Vre,DeltaT,VT,Vlb,taue,taui,r0e,r0i,tauSTDP,etae,etai,eiPlast,iiPlast,trialrecord,numerecord,numirecord,Nt,dt,Nburn,maxns,dtRecord)\n",
    "  simstime = tm()-startsims\n",
    "  print('Time for simulations: %.2f min'%(simstime/60))    \n",
    "  print('Time per sec: %.2f sec'%(1000*(simstime)/(T*N)))\n",
    "  ########################################################### save data ###########################################################   \n",
    "  with open(fname1, 'wb') as f:\n",
    "    np.save(f, MeanIee)\n",
    "    np.save(f, MeanIei)\n",
    "    np.save(f, MeanIie)\n",
    "    np.save(f, MeanIii)\n",
    "    np.save(f, Xe)\n",
    "    np.save(f, Xi)\n",
    "    np.save(f, AlleRates)\n",
    "    np.save(f, AlliRates)\n",
    "    np.save(f, VeRec)\n",
    "    np.save(f, SeRec)\n",
    "    np.save(f, SiRec)\n",
    "    np.save(f, simstime)    \n",
    "\n",
    "else:\n",
    "  ########################################################### load data ########################################################### \n",
    "  with open(fname1, 'rb') as f:\n",
    "    MeanIee = np.load(f)\n",
    "    MeanIei = np.load(f)\n",
    "    MeanIie = np.load(f)\n",
    "    MeanIii = np.load(f)\n",
    "    Xe = np.load(f)\n",
    "    Xi = np.load(f)\n",
    "    AlleRates = np.load(f)\n",
    "    AlliRates = np.load(f)\n",
    "    VeRec = np.load(f)\n",
    "    SeRec = np.load(f)\n",
    "    SiRec = np.load(f) \n",
    "    simstime = np.load(f)"
   ]
  },
  {
   "cell_type": "markdown",
   "metadata": {
    "id": "xF2KLkMClZJn"
   },
   "source": [
    "# Plots"
   ]
  },
  {
   "cell_type": "code",
   "execution_count": 12,
   "metadata": {
    "scrolled": true
   },
   "outputs": [
    {
     "data": {
      "image/png": "[encoded data removed]",
      "text/plain": [
       "<Figure size 360x216 with 1 Axes>"
      ]
     },
     "metadata": {},
     "output_type": "display_data"
    },
    {
     "data": {
      "image/png": "[encoded data removed]",
      "text/plain": [
       "<Figure size 360x216 with 1 Axes>"
      ]
     },
     "metadata": {},
     "output_type": "display_data"
    },
    {
     "data": {
      "text/plain": [
       "[]"
      ]
     },
     "execution_count": 12,
     "metadata": {},
     "output_type": "execute_result"
    }
   ],
   "source": [
    "# Make plots for Fig 5\n",
    "\n",
    "\n",
    "import seaborn as sns\n",
    "from matplotlib.patches import Rectangle\n",
    "\n",
    "sns.set(context='notebook',style='white',font_scale=1.3)\n",
    "\n",
    "\n",
    "# Rates averaged over each trial\n",
    "reSpikeT=np.mean(AlleRates,axis=1)\n",
    "re1SpikeT=np.mean(AlleRates[:,:Ne1],axis=1)\n",
    "re2SpikeT=np.mean(AlleRates[:,Ne1:],axis=1)\n",
    "riSpikeT=np.mean(AlliRates,axis=1)\n",
    "rSpikeT=np.array([reSpikeT,riSpikeT])\n",
    "\n",
    "\n",
    "AllRatesSpike=np.block([AlleRates,AlliRates])\n",
    "r0Spike=np.block([r0e+np.zeros_like(AlleRates),r0i+np.zeros_like(AlliRates)])\n",
    "MSEPopSpike=np.mean((AllRatesSpike-r0Spike)**2,axis=1)\n",
    "MSEMeanSpike=(.4*(re1SpikeT-r0e)**2+.4*(re2SpikeT-r0e)**2+.2*(riSpikeT-r0i)**2)\n",
    "\n",
    "MMcolor=[.9,.9,.9]\n",
    "\n",
    "# Raster and V plot params\n",
    "NePlot=100\n",
    "msize=3\n",
    "NumTrialsPlot=3\n",
    "\n",
    "TrialsPlot1=range(0,3)\n",
    "TrialsPlot2=range(29,32)\n",
    "whichVneuron=2\n",
    "\n",
    "\n",
    "\n",
    "plt.figure(figsize=(5, 3))\n",
    "plt.plot(np.arange(numtrials)*T/1000,1000*reSpikeT,color=[0,0,0],linewidth=3, label=r'$e$')\n",
    "plt.plot(np.arange(numtrials)*T/1000,1000*riSpikeT,color=sns.color_palette()[0], label=r'$i$')\n",
    "plt.plot(np.arange(numtrials)*T/1000,1000*r0e+np.zeros(numtrials),'--',color=sns.color_palette()[3], label=r'$e$ target')\n",
    "plt.plot(np.arange(numtrials)*T/1000,1000*r0i+np.zeros(numtrials),'--',color=sns.color_palette()[0], label=r'$i$ target')\n",
    "plt.annotate('mismatch', xy=(MMTrial,9.75), xytext=(0, 30),textcoords='offset points',ha='center',\n",
    "             arrowprops=dict(facecolor='gray', shrink=0.0))\n",
    "sns.despine()\n",
    "plt.xlabel('time (s)')\n",
    "plt.ylabel('firing rate (Hz)')\n",
    "plt.yticks([0,5,10])\n",
    "plt.ylim(bottom=0)\n",
    "#plt.legend(bbox_to_anchor=(1,1), loc=\"upper left\")\n",
    "#plt.legend()\n",
    "plt.title('C',loc='left',pad=10)\n",
    "\n",
    "plt.tight_layout()\n",
    "\n",
    "plt.savefig('../Paper/Figures/SuppFig4C.eps')\n",
    "\n",
    "\n",
    "plt.figure(figsize=(5, 3))\n",
    "plt.plot(np.arange(numtrials)*T/1000,1e6*MSEPopSpike,color=sns.color_palette('dark')[2],label='MSE of pop')\n",
    "plt.plot(np.arange(numtrials)*T/1000,1e6*MSEMeanSpike,color=sns.color_palette('pastel')[2],label='MSE of means')\n",
    "plt.annotate('mismatch', xy=(MMTrial,12), xytext=(0, 30),textcoords='offset points',ha='center',\n",
    "             arrowprops=dict(facecolor='gray', shrink=0.0))\n",
    "sns.despine()\n",
    "plt.xlabel('time (s)')\n",
    "plt.ylabel('MSE deviation of\\n'+r'rates from target (Hz$^2$)')\n",
    "plt.ylim(bottom=-.1,top=25)\n",
    "#plt.legend()\n",
    "plt.title('D',loc='left',pad=10)\n",
    "\n",
    "plt.tight_layout()\n",
    "\n",
    "plt.savefig('../Paper/Figures/SuppFig4D.eps')\n",
    "\n",
    "\n",
    "plt.show()\n",
    "\n",
    "\n",
    "\n",
    "\n",
    "[]"
   ]
  },
  {
   "cell_type": "code",
   "execution_count": null,
   "metadata": {},
   "outputs": [],
   "source": []
  }
 ],
 "metadata": {
  "colab": {
   "collapsed_sections": [],
   "name": "Example1d.ipynb",
   "provenance": []
  },
  "kernelspec": {
   "display_name": "Python 3",
   "language": "python",
   "name": "python3"
  },
  "language_info": {
   "codemirror_mode": {
    "name": "ipython",
    "version": 3
   },
   "file_extension": ".py",
   "mimetype": "text/x-python",
   "name": "python",
   "nbconvert_exporter": "python",
   "pygments_lexer": "ipython3",
   "version": "3.7.4"
  }
 },
 "nbformat": 4,
 "nbformat_minor": 4
}
